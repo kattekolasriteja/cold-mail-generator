{
 "cells": [
  {
   "cell_type": "code",
   "execution_count": 5,
   "id": "f40d5888-28e9-45ba-bf21-7da8bf8484ed",
   "metadata": {},
   "outputs": [],
   "source": [
    "from langchain_groq import ChatGroq\n",
    "\n",
    "llm = ChatGroq(\n",
    "     temperature=0,\n",
    "    groq_api_key = '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',\n",
    "    model_name=\"llama3-8b-8192\" \n",
    ")"
   ]
  },
  {
   "cell_type": "code",
   "execution_count": 6,
   "id": "b376875d-5251-40f5-bd2f-b74db2c446b0",
   "metadata": {},
   "outputs": [
    {
     "name": "stdout",
     "output_type": "stream",
     "text": [
      "The first person to walk on the Moon was Neil Armstrong, an American astronaut who stepped out of the lunar module Eagle and onto the Moon's surface on July 20, 1969, during the Apollo 11 mission. Armstrong famously declared, \"That's one small step for man, one giant leap for mankind,\" as he became the first human to set foot on the Moon.\n",
      "\n",
      "However, it's worth noting that Armstrong was not the first person to land on the Moon. That distinction belongs to Edwin \"Buzz\" Aldrin, who was the second person to walk on the Moon and the first person to do so while still in the lunar module's descent stage. Armstrong and Aldrin spent about two and a half hours on the Moon's surface, collecting samples and conducting experiments.\n"
     ]
    }
   ],
   "source": [
    "response = llm.invoke(\"the first person to land on moon was...\")\n",
    "print(response.content)"
   ]
  },
  {
   "cell_type": "code",
   "execution_count": 7,
   "id": "db35a98b-7be3-4290-a59c-e9d819705beb",
   "metadata": {},
   "outputs": [
    {
     "name": "stdout",
     "output_type": "stream",
     "text": [
      "Virat Kohli is an Indian cricketer who is widely regarded as one of the greatest batsmen in the world. He is the current captain of the Indian national team in all formats of the game, including Test, One-Day International (ODI), and Twenty20 International (T20I).\n",
      "\n",
      "Born on November 5, 1988, in Delhi, India, Kohli made his international debut for India in 2008. He quickly established himself as a talented young batsman, known for his aggressive style of play, exceptional technique, and ability to score runs at a rapid pace.\n",
      "\n",
      "Kohli has been incredibly successful in his career, with numerous records and accolades to his name. Some of his notable achievements include:\n",
      "\n",
      "* Highest run-scorer in international cricket: Kohli has scored over 24,000 runs in international cricket, including over 7,000 runs in Test cricket, over 11,000 runs in ODIs, and over 3,000 runs in T20Is.\n",
      "* Fastest batsman to reach 10,000 runs in ODIs: Kohli reached the milestone in just 215 innings, breaking the previous record held by Sachin Tendulkar.\n",
      "* Most centuries in ODIs: Kohli has scored 43 centuries in ODIs, the most by any batsman in the format.\n",
      "* Most runs in a calendar year: Kohli scored 2,818 runs in 2017, the most by any batsman in a calendar year.\n",
      "* Captain of the Indian team: Kohli has been the captain of the Indian team since 2015 and has led the team to several victories, including a Test series win in Australia in 2018-19.\n",
      "\n",
      "Kohli is also known for his exceptional fielding skills and has taken over 100 catches in international cricket. He is widely regarded as one of the greatest batsmen of his generation and is often compared to legendary batsmen such as Sachin Tendulkar and Brian Lara.\n",
      "\n",
      "Off the field, Kohli is a popular celebrity in India and has been involved in various philanthropic activities, including supporting education and healthcare initiatives. He is also a successful entrepreneur, with a range of business ventures, including a cricket academy and a fitness app.\n",
      "\n",
      "Overall, Virat Kohli is an exceptional cricketer who has achieved incredible success in his career and is widely respected for his skills, dedication, and passion for the game.\n"
     ]
    }
   ],
   "source": [
    "response2 = llm.invoke(\"who is virat kohli\")\n",
    "print(response2.content)"
   ]
  },
  {
   "cell_type": "code",
   "execution_count": null,
   "id": "617698f6-ecbd-4198-b1c8-e1f28f44a00e",
   "metadata": {},
   "outputs": [],
   "source": []
  }
 ],
 "metadata": {
  "kernelspec": {
   "display_name": "Python 3 (ipykernel)",
   "language": "python",
   "name": "python3"
  },
  "language_info": {
   "codemirror_mode": {
    "name": "ipython",
    "version": 3
   },
   "file_extension": ".py",
   "mimetype": "text/x-python",
   "name": "python",
   "nbconvert_exporter": "python",
   "pygments_lexer": "ipython3",
   "version": "3.12.8"
  }
 },
 "nbformat": 4,
 "nbformat_minor": 5
}
